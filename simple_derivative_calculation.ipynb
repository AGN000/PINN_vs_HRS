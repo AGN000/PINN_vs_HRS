{
  "cells": [
    {
      "cell_type": "markdown",
      "metadata": {
        "colab_type": "text",
        "id": "view-in-github"
      },
      "source": [
        "<a href=\"https://colab.research.google.com/github/jdtoscano94/Learning-PINNs-in-Pytorch-Physics-Informed-Machine-Learning/blob/main/2_SimpleODE.ipynb\" target=\"_parent\"><img src=\"https://colab.research.google.com/assets/colab-badge.svg\" alt=\"Open In Colab\"/></a>"
      ]
    },
    {
      "cell_type": "markdown",
      "metadata": {
        "id": "Y61YA90-WIZ1"
      },
      "source": [
        "# Libraries"
      ]
    },
    {
      "cell_type": "code",
      "execution_count": 1,
      "metadata": {
        "colab": {
          "base_uri": "https://localhost:8080/"
        },
        "id": "OdYMzuSDi7Js",
        "outputId": "a4871ba7-cbb0-485f-84d5-85a84b49c23b"
      },
      "outputs": [
        {
          "name": "stdout",
          "output_type": "stream",
          "text": [
            "cuda\n"
          ]
        }
      ],
      "source": [
        "import torch\n",
        "import torch.autograd as autograd         # computation graph\n",
        "from torch import Tensor                  # tensor node in the computation graph\n",
        "import torch.nn as nn                     # neural networks\n",
        "import torch.optim as optim               # optimizers e.g. gradient descent, ADAM, etc.\n",
        "\n",
        "import matplotlib.pyplot as plt\n",
        "import matplotlib.gridspec as gridspec\n",
        "from mpl_toolkits.axes_grid1 import make_axes_locatable\n",
        "from mpl_toolkits.mplot3d import Axes3D\n",
        "import matplotlib.ticker\n",
        "from sklearn.model_selection import train_test_split\n",
        "\n",
        "import numpy as np\n",
        "import time\n",
        "from pyDOE import lhs         #Latin Hypercube Sampling\n",
        "import scipy.io\n",
        "\n",
        "#Set default dtype to float32\n",
        "torch.set_default_dtype(torch.float)\n",
        "\n",
        "#PyTorch random number generator\n",
        "torch.manual_seed(1234)\n",
        "\n",
        "# Random number generators in other libraries\n",
        "np.random.seed(1234)\n",
        "\n",
        "# Device configuration\n",
        "device = torch.device('cuda' if torch.cuda.is_available() else 'cpu')\n",
        "\n",
        "print(device)\n",
        "\n",
        "if device == 'cuda': \n",
        "    print(torch.cuda.get_device_name()) \n"
      ]
    },
    {
      "cell_type": "markdown",
      "metadata": {
        "id": "JksBmhyho5uZ"
      },
      "source": [
        "# Tunning Parameters"
      ]
    },
    {
      "cell_type": "code",
      "execution_count": 2,
      "metadata": {
        "id": "gL-vSDVLoyV7"
      },
      "outputs": [],
      "source": [
        "steps=20000\n",
        "lr=1e-3\n",
        "layers = np.array([1,50,50,50,50,50,1]) #5 hidden layers\n",
        "min=-1\n",
        "max=1\n",
        "total_points=101\n",
        "#Nu: Number of training points (2 as we onlt have 2 boundaries), # Nf: Number of collocation points (Evaluate PDE)\n",
        "Nu=2\n",
        "Nf=total_points;\n",
        "global k \n",
        "k= 100;"
      ]
    },
    {
      "cell_type": "markdown",
      "metadata": {
        "id": "K40IpAXPjS4I"
      },
      "source": [
        "## Functions"
      ]
    },
    {
      "cell_type": "code",
      "execution_count": 3,
      "metadata": {
        "id": "hZFwvWyGs2RE"
      },
      "outputs": [],
      "source": [
        "def f_BC(x): # This function satisfies the boundry conditions. The same as the real one (To ease the data generation), but we may not have it.\n",
        "  return torch.tanh(k*x)\n",
        "def PDE(x): # The PDE equation. We use it to get the residual in the Neurl Network.\n",
        "  return -k*(torch.tanh(k*x)**2 - 1)\n"
      ]
    },
    {
      "cell_type": "markdown",
      "metadata": {
        "id": "ZHYqtyYJs3Jv"
      },
      "source": [
        "## Neural Network"
      ]
    },
    {
      "cell_type": "code",
      "execution_count": 4,
      "metadata": {
        "id": "7EZjlbVMi8w0"
      },
      "outputs": [],
      "source": [
        "\n",
        "class FCN(nn.Module):\n",
        "    ##Neural Network\n",
        "    def __init__(self,layers):\n",
        "        super().__init__() #call __init__ from parent class \n",
        "        'activation function'\n",
        "        self.activation = nn.Tanh()\n",
        "        'loss function'\n",
        "        self.loss_function = nn.MSELoss(reduction ='mean')\n",
        "        'Initialise neural network as a list using nn.Modulelist'  \n",
        "        self.linears = nn.ModuleList([nn.Linear(layers[i], layers[i+1]) for i in range(len(layers)-1)]) \n",
        "        self.iter = 0\n",
        "        'Xavier Normal Initialization'\n",
        "        # std = gain * sqrt(2/(input_dim+output_dim))\n",
        "        for i in range(len(layers)-1):\n",
        "            \n",
        "            # weights from a normal distribution with \n",
        "            # Recommended gain value for tanh = 5/3?\n",
        "            nn.init.xavier_normal_(self.linears[i].weight.data, gain=1.0)\n",
        "            \n",
        "            # set biases to zero\n",
        "            nn.init.zeros_(self.linears[i].bias.data)   \n",
        "    'foward pass'\n",
        "    def forward(self,x):\n",
        "        if torch.is_tensor(x) != True:         \n",
        "            x = torch.from_numpy(x)                \n",
        "        a = x.float()\n",
        "        for i in range(len(layers)-2):  \n",
        "            z = self.linears[i](a)              \n",
        "            a = self.activation(z)    \n",
        "        a = self.linears[-1](a)\n",
        "        return a\n",
        "    'Loss Functions'\n",
        "    #Loss BC\n",
        "    def lossBC(self,x_BC):\n",
        "      loss_BC=self.loss_function(self.forward(x_BC),f_BC(x_BC))\n",
        "      return loss_BC\n",
        "    #Loss PDE\n",
        "    def lossPDE(self,x_PDE):\n",
        "      g=x_PDE.clone()\n",
        "      g.requires_grad=True #Enable differentiation\n",
        "      f=self.forward(g)\n",
        "      f_x=autograd.grad(f,g,torch.ones([x_PDE.shape[0],1]).to(device),retain_graph=True, create_graph=True)[0]\n",
        "      loss_PDE=self.loss_function(f_x,PDE(g))\n",
        "      return loss_PDE\n",
        "      \n",
        "    def loss(self,x_BC,x_PDE):\n",
        "      loss_bc=self.lossBC(x_BC)\n",
        "      loss_pde=self.lossPDE(x_PDE)\n",
        "      return loss_bc+loss_pde\n",
        "\n",
        "    def closure(self):\n",
        "        \n",
        "        optimizer.zero_grad()\n",
        "        \n",
        "        loss = self.lossNN(x_train, y_train)\n",
        "        \n",
        "        loss.backward()\n",
        "                \n",
        "        self.iter += 1\n",
        "        \n",
        "        if self.iter % 100 == 0:\n",
        "        \n",
        "            print(loss)\n",
        "\n",
        "        return loss   "
      ]
    },
    {
      "cell_type": "markdown",
      "metadata": {
        "id": "pOe9yRvxjakj"
      },
      "source": [
        "# Generate data"
      ]
    },
    {
      "cell_type": "code",
      "execution_count": 5,
      "metadata": {
        "colab": {
          "base_uri": "https://localhost:8080/"
        },
        "id": "Z1V03CRRjRML",
        "outputId": "debfb85f-3d11-47e0-faed-742169b53136"
      },
      "outputs": [
        {
          "name": "stdout",
          "output_type": "stream",
          "text": [
            "torch.Size([101, 1]) torch.Size([101, 1])\n"
          ]
        }
      ],
      "source": [
        "# get the analytical solution over the full domain\n",
        "x = torch.linspace(min,max,total_points).view(-1,1) #prepare to NN\n",
        "y = f_BC(x)\n",
        "print(x.shape, y.shape)\n"
      ]
    },
    {
      "cell_type": "code",
      "execution_count": 6,
      "metadata": {
        "colab": {
          "base_uri": "https://localhost:8080/",
          "height": 297
        },
        "id": "OE4RUZ27p0fT",
        "outputId": "4334362a-3564-4b8f-c44d-4f1b1f036a55"
      },
      "outputs": [
        {
          "data": {
            "text/plain": [
              "<matplotlib.legend.Legend at 0x200cd78ab00>"
            ]
          },
          "execution_count": 6,
          "metadata": {},
          "output_type": "execute_result"
        },
        {
          "data": {
            "image/png": "[encoded data removed]",
            "text/plain": [
              "<Figure size 640x480 with 1 Axes>"
            ]
          },
          "metadata": {},
          "output_type": "display_data"
        }
      ],
      "source": [
        "fig, ax1 = plt.subplots()\n",
        "ax1.plot(x.detach().numpy(),y.detach().numpy(),color='blue',label='Real_Train')\n",
        "#ax1.plot(x_train.detach().numpy(),yh.detach().numpy(),color='red',label='Pred_Train')\n",
        "ax1.set_xlabel('x',color='black')\n",
        "ax1.set_ylabel('f(x)',color='black')\n",
        "ax1.tick_params(axis='y', color='black')\n",
        "ax1.legend(loc = 'upper left')"
      ]
    },
    {
      "cell_type": "code",
      "execution_count": 7,
      "metadata": {
        "id": "_JMjSMOKdlWt"
      },
      "outputs": [],
      "source": [
        "#def get_training_data(x):\n",
        "#Nu: Number of training point, # Nf: Number of colloction points\n",
        "# Set Boundary conditions:\n",
        "BC_1=x[0,:]\n",
        "BC_2=x[-1,:]\n",
        "# Total Training points BC1+BC2\n",
        "all_train=torch.vstack([BC_1,BC_2])\n",
        "#Select Nu points\n",
        "# idx = np.random.choice(all_train.shape[0], Nu, replace=False) \n",
        "x_BC=all_train[:]\n",
        "#Select Nf points\n",
        "# Latin Hypercube sampling for collocation points \n",
        "# x_PDE = BC_1 + (BC_2-BC_1)*lhs(1,Nf)\n",
        "x_PDE = x"
      ]
    },
    {
      "cell_type": "code",
      "execution_count": 8,
      "metadata": {},
      "outputs": [
        {
          "data": {
            "text/plain": [
              "torch.Size([101, 1])"
            ]
          },
          "execution_count": 8,
          "metadata": {},
          "output_type": "execute_result"
        }
      ],
      "source": [
        "x.shape"
      ]
    },
    {
      "cell_type": "code",
      "execution_count": 9,
      "metadata": {
        "colab": {
          "base_uri": "https://localhost:8080/"
        },
        "id": "SxRNKJ4Ejif8",
        "outputId": "dd5d17a4-00e3-4868-b2b5-c3a36efe1ccc"
      },
      "outputs": [
        {
          "data": {
            "text/plain": [
              "torch.Size([101, 1])"
            ]
          },
          "execution_count": 9,
          "metadata": {},
          "output_type": "execute_result"
        }
      ],
      "source": [
        "x_PDE.shape"
      ]
    },
    {
      "cell_type": "markdown",
      "metadata": {
        "id": "I82eH55ElVSq"
      },
      "source": [
        "# Train Neural Network"
      ]
    },
    {
      "cell_type": "code",
      "execution_count": 10,
      "metadata": {
        "colab": {
          "base_uri": "https://localhost:8080/"
        },
        "id": "8KZvgKcalOVV",
        "outputId": "903bed15-1471-4dfa-b812-2dbabb307882"
      },
      "outputs": [
        {
          "name": "stdout",
          "output_type": "stream",
          "text": [
            "FCN(\n",
            "  (activation): Tanh()\n",
            "  (loss_function): MSELoss()\n",
            "  (linears): ModuleList(\n",
            "    (0): Linear(in_features=1, out_features=50, bias=True)\n",
            "    (1-4): 4 x Linear(in_features=50, out_features=50, bias=True)\n",
            "    (5): Linear(in_features=50, out_features=1, bias=True)\n",
            "  )\n",
            ")\n"
          ]
        }
      ],
      "source": [
        "#Store tensors to GPU\n",
        "torch.manual_seed(123)\n",
        "x_PDE=x_PDE.float().to(device)\n",
        "x_BC=x_BC.to(device)\n",
        "#Create Model\n",
        "model = FCN(layers)\n",
        "print(model)\n",
        "model.to(device)\n",
        "params = list(model.parameters())\n",
        "optimizer = torch.optim.Adam(model.parameters(),lr=lr,amsgrad=False)\n",
        "start_time = time.time()"
      ]
    },
    {
      "cell_type": "code",
      "execution_count": 11,
      "metadata": {
        "colab": {
          "base_uri": "https://localhost:8080/"
        },
        "id": "KM3GHnh9ljCh",
        "outputId": "89c09060-a4c8-4b76-abea-3f34e0f301c2"
      },
      "outputs": [
        {
          "name": "stdout",
          "output_type": "stream",
          "text": [
            "tensor(0.9044, device='cuda:0', grad_fn=<AddBackward0>)\n",
            "tensor(1.2868e-05, device='cuda:0', grad_fn=<AddBackward0>)\n",
            "tensor(1.6734e-05, device='cuda:0', grad_fn=<AddBackward0>)\n",
            "tensor(1.8866e-06, device='cuda:0', grad_fn=<AddBackward0>)\n",
            "tensor(1.2317e-07, device='cuda:0', grad_fn=<AddBackward0>)\n",
            "tensor(1.0560e-07, device='cuda:0', grad_fn=<AddBackward0>)\n",
            "tensor(2.4903e-08, device='cuda:0', grad_fn=<AddBackward0>)\n",
            "tensor(2.8803e-05, device='cuda:0', grad_fn=<AddBackward0>)\n",
            "tensor(1.9302e-09, device='cuda:0', grad_fn=<AddBackward0>)\n",
            "tensor(1.6399e-08, device='cuda:0', grad_fn=<AddBackward0>)\n"
          ]
        }
      ],
      "source": [
        "for i in range(steps):\n",
        "    yh = model(x_PDE)\n",
        "    loss = model.loss(x_PDE,x_BC)# use mean squared error\n",
        "    optimizer.zero_grad()\n",
        "    loss.backward()\n",
        "    optimizer.step()\n",
        "    if i%(steps/10)==0:\n",
        "      print(loss)"
      ]
    },
    {
      "cell_type": "markdown",
      "metadata": {
        "id": "kpRh89zM8Te8"
      },
      "source": [
        "### Plots"
      ]
    },
    {
      "cell_type": "code",
      "execution_count": 12,
      "metadata": {
        "colab": {
          "base_uri": "https://localhost:8080/"
        },
        "id": "6kJ3gQ6WYhp9",
        "outputId": "6087df9b-625e-4435-a541-82c1ffb5341d"
      },
      "outputs": [
        {
          "name": "stdout",
          "output_type": "stream",
          "text": [
            "tensor(7.2095e-05, device='cuda:0', grad_fn=<MseLossBackward0>)\n"
          ]
        }
      ],
      "source": [
        "# Function\n",
        "yh=model(x.to(device))\n",
        "y=f_BC(x)\n",
        "#Error\n",
        "print(model.lossBC(x.to(device)))"
      ]
    },
    {
      "cell_type": "code",
      "execution_count": 13,
      "metadata": {
        "id": "jEUUqEjr8Sim"
      },
      "outputs": [],
      "source": [
        "# Derivative\n",
        "g=x.to(device)\n",
        "g=g.clone()\n",
        "g.requires_grad=True #Enable differentiation\n",
        "f=model(g)\n",
        "f_x=autograd.grad(f,g,torch.ones([g.shape[0],1]).to(device),retain_graph=True, create_graph=True)[0]"
      ]
    },
    {
      "cell_type": "code",
      "execution_count": 14,
      "metadata": {
        "id": "udWgFd6mqY7B"
      },
      "outputs": [],
      "source": [
        "# Detach from GPU\n",
        "y_plot=y.detach().numpy()\n",
        "yh_plot=yh.detach().cpu().numpy()\n",
        "f_x_plot=f_x.detach().cpu().numpy()"
      ]
    },
    {
      "cell_type": "code",
      "execution_count": 15,
      "metadata": {},
      "outputs": [],
      "source": [
        "com=np.loadtxt('Step.dat')"
      ]
    },
    {
      "cell_type": "code",
      "execution_count": 16,
      "metadata": {},
      "outputs": [
        {
          "data": {
            "text/plain": [
              "(100, 2)"
            ]
          },
          "execution_count": 16,
          "metadata": {},
          "output_type": "execute_result"
        }
      ],
      "source": [
        "com.shape"
      ]
    },
    {
      "cell_type": "code",
      "execution_count": 17,
      "metadata": {
        "colab": {
          "base_uri": "https://localhost:8080/",
          "height": 297
        },
        "id": "M9YZDGcpodnQ",
        "outputId": "bd218024-30e2-4073-bf0f-837910d10185"
      },
      "outputs": [
        {
          "data": {
            "text/plain": [
              "<matplotlib.legend.Legend at 0x200f0798c40>"
            ]
          },
          "execution_count": 17,
          "metadata": {},
          "output_type": "execute_result"
        },
        {
          "data": {
            "image/png": "[encoded data removed]",
            "text/plain": [
              "<Figure size 640x480 with 1 Axes>"
            ]
          },
          "metadata": {},
          "output_type": "display_data"
        }
      ],
      "source": [
        "# Plot\n",
        "fig, ax1 = plt.subplots()\n",
        "x1=torch.linspace(min,max,10*total_points)\n",
        "# ax1.plot(x,y_plot,color='blue',label='Real')\n",
        "# ax1.plot(x,yh_plot,color='red',label='Predicted')\n",
        "ax1.plot(x1,PDE(x1),color='red',label='Exact')\n",
        "ax1.plot(x,f_x_plot,color='green',label='PINN')\n",
        "ax1.plot(com[:,0],com[:,1],color='blue',label='Compact Scheme-6')\n",
        "ax1.set_xlabel('x',color='black')\n",
        "ax1.set_ylabel(\"f'(x)\",color='black')\n",
        "ax1.tick_params(axis='y', color='black')\n",
        "ax1.legend(loc = 'upper left')"
      ]
    },
    {
      "cell_type": "code",
      "execution_count": 18,
      "metadata": {},
      "outputs": [],
      "source": [
        "y=f_BC(x)\n",
        "y=y.cpu().detach().numpy()"
      ]
    },
    {
      "cell_type": "code",
      "execution_count": 19,
      "metadata": {},
      "outputs": [
        {
          "data": {
            "text/plain": [
              "92.74038"
            ]
          },
          "execution_count": 19,
          "metadata": {},
          "output_type": "execute_result"
        }
      ],
      "source": [
        "np.max(f_x_plot)"
      ]
    },
    {
      "cell_type": "code",
      "execution_count": 20,
      "metadata": {},
      "outputs": [],
      "source": [
        "y=f_BC(x)\n",
        "y=y.cpu().detach().numpy()\n",
        "dy=y.copy()\n",
        "dx=x[1]-x[0]\n",
        "nx=len(x)\n",
        "for i in range(1, nx):\n",
        "    dy[i] = (y[i] - y[i - 1])/dx"
      ]
    },
    {
      "cell_type": "code",
      "execution_count": 21,
      "metadata": {},
      "outputs": [
        {
          "data": {
            "text/plain": [
              "[<matplotlib.lines.Line2D at 0x20087b01cf0>]"
            ]
          },
          "execution_count": 21,
          "metadata": {},
          "output_type": "execute_result"
        },
        {
          "data": {
            "image/png": "[encoded data removed]",
            "text/plain": [
              "<Figure size 640x480 with 1 Axes>"
            ]
          },
          "metadata": {},
          "output_type": "display_data"
        }
      ],
      "source": [
        "plt.plot(dy)"
      ]
    },
    {
      "cell_type": "code",
      "execution_count": 22,
      "metadata": {
        "id": "shpAT3p4r4uE"
      },
      "outputs": [
        {
          "data": {
            "text/plain": [
              "<matplotlib.legend.Legend at 0x200f0799630>"
            ]
          },
          "execution_count": 22,
          "metadata": {},
          "output_type": "execute_result"
        },
        {
          "data": {
            "image/png": "[encoded data removed]",
            "text/plain": [
              "<Figure size 640x480 with 1 Axes>"
            ]
          },
          "metadata": {},
          "output_type": "display_data"
        }
      ],
      "source": [
        "# Plot\n",
        "fig, ax1 = plt.subplots()\n",
        "x1=torch.linspace(min,max,10*total_points)\n",
        "# ax1.plot(x,y_plot,color='blue',label='Real')\n",
        "# ax1.plot(x,yh_plot,color='red',label='Predicted')\n",
        "ax1.plot(x1,PDE(x1),color='red',label='Exact')\n",
        "ax1.plot(x,f_x_plot,color='green',label='PINN')\n",
        "ax1.plot(com[:,0],com[:,1],color='blue',label='Compact Scheme-6')\n",
        "ax1.set_xlabel('x',color='black')\n",
        "ax1.set_ylabel(\"f'(x)\",color='black')\n",
        "ax1.tick_params(axis='y', color='black')\n",
        "ax1.legend(loc = 'upper left')"
      ]
    },
    {
      "cell_type": "code",
      "execution_count": 23,
      "metadata": {},
      "outputs": [],
      "source": [
        "d_bs=np.hstack([x,dy])\n",
        "d_pinn=np.hstack([x,f_x_plot])"
      ]
    },
    {
      "cell_type": "code",
      "execution_count": 24,
      "metadata": {},
      "outputs": [],
      "source": [
        "np.savetxt('d_bs_df.dat',d_bs)\n",
        "np.savetxt('d_pinn_df.dat',d_pinn)"
      ]
    },
    {
      "cell_type": "code",
      "execution_count": 25,
      "metadata": {},
      "outputs": [],
      "source": [
        "yex=PDE(x1)\n",
        "yex_p=torch.vstack([x1,yex])\n",
        "yex_p.shape\n",
        "yex_p1=yex_p.cpu().detach().numpy()"
      ]
    },
    {
      "cell_type": "code",
      "execution_count": 26,
      "metadata": {},
      "outputs": [],
      "source": [
        "yex_p1=np.transpose(yex_p1)\n"
      ]
    },
    {
      "cell_type": "code",
      "execution_count": 27,
      "metadata": {},
      "outputs": [],
      "source": [
        "np.savetxt('d_ex_df.dat',yex_p1)"
      ]
    }
  ],
  "metadata": {
    "accelerator": "GPU",
    "colab": {
      "collapsed_sections": [
        "Y61YA90-WIZ1",
        "JksBmhyho5uZ"
      ],
      "include_colab_link": true,
      "machine_shape": "hm",
      "name": "2.SimpleODE.ipynb",
      "provenance": []
    },
    "kernelspec": {
      "display_name": "Python 3",
      "name": "python3"
    },
    "language_info": {
      "codemirror_mode": {
        "name": "ipython",
        "version": 3
      },
      "file_extension": ".py",
      "mimetype": "text/x-python",
      "name": "python",
      "nbconvert_exporter": "python",
      "pygments_lexer": "ipython3",
      "version": "3.10.14"
    }
  },
  "nbformat": 4,
  "nbformat_minor": 0
}
